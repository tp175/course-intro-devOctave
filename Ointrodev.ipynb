{
 "cells": [
  {
   "cell_type": "markdown",
   "metadata": {},
   "source": [
    "<font size=\"6\" color=\"68829E\" face=\"calibri\"> <b> Introduction: Octave and Jupyter </b> </font>"
   ]
  },
  {
   "cell_type": "markdown",
   "metadata": {},
   "source": [
    "<font size=\"4\" color=\"#000000\" face=\"calibri\">\n",
    "Welcome to Octave, on HCC, through Jupyter. <br> <br>\n",
    "<i>\"Scientific Programming Language Octave is free software for numerical computations\" </i> <br>\n",
    "<a href=\"https://www.gnu.org/software/octave/\"> www.gnu.org/software/octave </a> <br> <br>\n",
    "<i>\"The Jupyter Notebook is an open-source web application that allows you to create and share documents that contain live code, equations, visualizations and narrative text\" </i> <br>\n",
    "<a href=\"https://jupyter.org/\"> www.jupyter.org </a> <br> <br>\n",
    "Here, we'll be touching upon some of the fundamentals of the Octave language (often MATLAB compatible). Topics to be covered include: functions, data types, manipulation, packages, saving and loading. XXX <br>\n",
    "First though lets briefly talk Jupyter ... <br>\n",
    "</font>"
   ]
  },
  {
   "cell_type": "markdown",
   "metadata": {},
   "source": [
    "<font size=\"6\" color=\"68829E\" face=\"calibri\">\n",
    "<b> Jupyter Notebook </b>\n",
    "</font>\n",
    "<br>\n",
    "<font size=\"4\" color=\"black\" face=\"calibri\">\n",
    "Segregated into a kernel (execute code) and dashboard & editor (interface), Jupyter permits mixing real-time coding with interactive rich-text ouputs in self-contained <i>.ipynb(JSON)</i> documents (local or remote). <br>\n",
    "Kernels include Julia, Python, R, MATLAB/Octave, etc. <br>\n",
    "Interact with input cells (code, markdown, etc) that exhibit an order and mode - insert, edit, run. <br>\n",
    "</font>"
   ]
  },
  {
   "cell_type": "markdown",
   "metadata": {},
   "source": [
    "``` $ jupyter notebook ```"
   ]
  },
  {
   "cell_type": "markdown",
   "metadata": {},
   "source": [
    "<font size=\"6\" color=\"68829E\" face=\"calibri\">\n",
    "<b> Octave </b>\n",
    "</font>\n",
    "<br>\n",
    "<font size=\"4\" color=\"black\" face=\"calibri\">\n",
    "Starting Octave loads an interpreter and creates a workspace/environment to store values and perform commands. <br>\n",
    "Interact with terminal directly or indirectly through scripts.\n",
    "</font>"
   ]
  },
  {
   "cell_type": "code",
   "execution_count": null,
   "metadata": {
    "collapsed": true
   },
   "outputs": [],
   "source": [
    "#Octave - load & open (terminal)\n",
    "#module load octave\n",
    "#octave"
   ]
  },
  {
   "cell_type": "code",
   "execution_count": null,
   "metadata": {
    "collapsed": true
   },
   "outputs": [],
   "source": [
    "%print info about Octave\n",
    "ver()"
   ]
  },
  {
   "cell_type": "code",
   "execution_count": null,
   "metadata": {
    "collapsed": true
   },
   "outputs": [],
   "source": [
    "%get (/change) current/working directory\n",
    "pwd()\n",
    "%cd('\\home\\')\n",
    "\n",
    "%dir(pwd()); %RUN BELOW, INSERT NEW CELL ..."
   ]
  },
  {
   "cell_type": "code",
   "execution_count": null,
   "metadata": {
    "collapsed": true
   },
   "outputs": [],
   "source": [
    "dir(pwd())"
   ]
  },
  {
   "cell_type": "markdown",
   "metadata": {},
   "source": [
    "<font size=\"6\" color=\"68829E\" face=\"calibri\">\n",
    "<b> Calculations </b>\n",
    "</font>\n",
    "<br>\n",
    "<font size=\"4\" color=\"black\" face=\"calibri\">\n",
    "Mathematical calculations - elements & arrays (/vectors). <br>\n",
    "Example operators: <code>+</code>, <code>-</code>, <code>*</code>, <code>/</code>, <code>^</code>.\n",
    "</font>"
   ]
  },
  {
   "cell_type": "code",
   "execution_count": null,
   "metadata": {},
   "outputs": [],
   "source": [
    "(20+20)/5"
   ]
  },
  {
   "cell_type": "code",
   "execution_count": null,
   "metadata": {},
   "outputs": [],
   "source": [
    "[1,2,3,4] .* [1,2,3,4]"
   ]
  },
  {
   "cell_type": "code",
   "execution_count": null,
   "metadata": {
    "collapsed": true
   },
   "outputs": [],
   "source": [
    "sqrt(81) %built-in code (base functions)"
   ]
  },
  {
   "cell_type": "markdown",
   "metadata": {},
   "source": [
    "<font size=\"6\" color=\"68829E\" face=\"calibri\">\n",
    "<b> Functions </b>\n",
    "</font>\n",
    "<br>\n",
    "<font size=\"4\" color=\"black\" face=\"calibri\">\n",
    "Perform procedures - Input to Output with options/arguments (<i>round brackets</i>). <br>\n",
    "With no defined arguments, functions will resort to default values found in documentation (help).\n",
    "</font>"
   ]
  },
  {
   "cell_type": "markdown",
   "metadata": {},
   "source": [
    "<div class=\"alert alert-block alert-info\">\n",
    "<b>#Tip 2.</b>  addpath('XXX').\n",
    "</div>"
   ]
  },
  {
   "cell_type": "code",
   "execution_count": null,
   "metadata": {
    "collapsed": true
   },
   "outputs": [],
   "source": [
    "%nested example (rand = generate random number) \n",
    "disp(sort(rand([1, 10]),\"ascend\"))"
   ]
  },
  {
   "cell_type": "code",
   "execution_count": null,
   "metadata": {
    "collapsed": true
   },
   "outputs": [],
   "source": [
    "%check documentation (usage, arguments, details, examples, etc)\n",
    "help sort"
   ]
  },
  {
   "cell_type": "code",
   "execution_count": null,
   "metadata": {
    "collapsed": true
   },
   "outputs": [],
   "source": [
    "[S, I] = sort(rand([1, 10]),\"ascend\")"
   ]
  },
  {
   "cell_type": "code",
   "execution_count": null,
   "metadata": {
    "collapsed": true
   },
   "outputs": [],
   "source": [
    "function [SE] = calculate_SE(x)\n",
    "    %define function to calculate standard error (body - local env)\n",
    "    SE = sqrt(var(x) / length(x));\n",
    "endfunction\n",
    "\n",
    "calculate_SE([10.4, 5.6, 3.1, 6.4, 21.7]) %run function"
   ]
  },
  {
   "cell_type": "markdown",
   "metadata": {},
   "source": [
    "<font size=\"6\" color=\"68829E\" face=\"calibri\">\n",
    "<b> Assignment </b>\n",
    "</font>\n",
    "<br>\n",
    "<font size=\"4\" color=\"black\" face=\"calibri\">\n",
    "Command <code>=</code> assigns and stores outputs/results as well as functions to memory. <br> <br>\n",
    "Octave operates on named data structures, that is, sets of ordered entities.<br>\n",
    "Example vectors: numeric (double, integer, complex), logical, character.\n",
    "</font>"
   ]
  },
  {
   "cell_type": "markdown",
   "metadata": {},
   "source": [
    "<div class=\"alert alert-block alert-info\">\n",
    "<b>#Tip 3.</b>  tab completion is available.\n",
    "</div>"
   ]
  },
  {
   "cell_type": "code",
   "execution_count": null,
   "metadata": {
    "collapsed": true
   },
   "outputs": [],
   "source": [
    "x = [10.4, 5.6, 3.1, 6.4, 21.7]; \n",
    "\n",
    "class(x)\n",
    "x"
   ]
  },
  {
   "cell_type": "code",
   "execution_count": null,
   "metadata": {
    "collapsed": true
   },
   "outputs": [],
   "source": [
    "%y = [\"test\"; \"control\"; \"control\"; \"control\"; \"test\"];\n",
    "y = {\"test\", \"control\", \"control\", \"control\", \"test\"}\n",
    "\n",
    "class(y)\n",
    "y"
   ]
  },
  {
   "cell_type": "markdown",
   "metadata": {},
   "source": [
    "<font size=\"6\" color=\"68829E\" face=\"calibri\">\n",
    "<b> Objects </b>\n",
    "</font>\n",
    "<br>\n",
    "<font size=\"4\" color=\"black\" face=\"calibri\">\n",
    "While matrices are the most important type of object/structure/variable in Octave, others exist each with intrinsic attributes (XXX and XXX). Conversion between types is relatively intuitive - num2cell(x). <br> <br>\n",
    "Examples: strings, cells, structures.\n",
    "</font>"
   ]
  },
  {
   "cell_type": "code",
   "execution_count": null,
   "metadata": {
    "collapsed": true
   },
   "outputs": [],
   "source": [
    "%matrices - visualize toy example\n",
    "X = rand([4, 5]);\n",
    "%X = reshape(rand([1, 20]), 4, 5);\n",
    "\n",
    "size(X)\n",
    "X"
   ]
  },
  {
   "cell_type": "markdown",
   "metadata": {},
   "source": [
    "<font size=\"6\" color=\"68829E\" face=\"calibri\">\n",
    "<b> Indexing </b>\n",
    "</font>\n",
    "<br>\n",
    "<font size=\"4\" color=\"black\" face=\"calibri\">\n",
    "Access parts of a dataset - rows then columns (<i>round brackets again</i>) - can be coded multiple ways. <br>\n",
    "Shortcut <code>:</code> generates a regular sequence from start to end (by 1). <br>\n",
    "Concatenate row-wise with <code>,</code> or column-wise with <code>;</code> (<i>square brackets</i>).\n",
    "</font>"
   ]
  },
  {
   "cell_type": "code",
   "execution_count": null,
   "metadata": {
    "collapsed": true
   },
   "outputs": [],
   "source": [
    "X(2,4)"
   ]
  },
  {
   "cell_type": "code",
   "execution_count": null,
   "metadata": {
    "collapsed": true
   },
   "outputs": [],
   "source": [
    "X'(2,4) %transpose (rows to columns, columns to rows)"
   ]
  },
  {
   "cell_type": "code",
   "execution_count": null,
   "metadata": {
    "collapsed": true
   },
   "outputs": [],
   "source": [
    "X([2,4], 4) = [0,10]; %replace elements\n",
    "X"
   ]
  },
  {
   "cell_type": "code",
   "execution_count": null,
   "metadata": {
    "collapsed": true
   },
   "outputs": [],
   "source": [
    "X(1:3,2:3)\n",
    "\n",
    "[X(1:3,2), X(1:3,3)] %concatenate columns (,)\n",
    "\n",
    "[X(1,2:3); X(2,2:3); X(3,2:3)]  %concatenate rows (;)"
   ]
  },
  {
   "cell_type": "markdown",
   "metadata": {},
   "source": [
    "<font size=\"6\" color=\"68829E\" face=\"calibri\">\n",
    "<b> Conditions </b>\n",
    "</font>\n",
    "<br>\n",
    "<font size=\"4\" color=\"black\" face=\"calibri\">\n",
    "Checks that control the flow of actions/execution (if / else). <br>\n",
    "Comparsion: lesser than (<code><</code>), greater than (<code>></code>), equal (<code>==</code>), different (<code>~=</code>). <br>\n",
    "Logical: AND (<code>&</code>) if both <i>true</i>, OR (<code>|</code>) if either <i>true</i>, NOT (<code>~</code>) converts <i>true</i> to <i>false</i>.\n",
    "</font>"
   ]
  },
  {
   "cell_type": "code",
   "execution_count": null,
   "metadata": {
    "collapsed": true
   },
   "outputs": [],
   "source": [
    "X(X > 0.50) %output - free from dimensions\n",
    "X"
   ]
  },
  {
   "cell_type": "code",
   "execution_count": null,
   "metadata": {
    "collapsed": true
   },
   "outputs": [],
   "source": [
    "X(X >= 0.60 & X <= 0.70) %across whole matrix\n",
    "X(1, X(1,:) >= 0.60 & X(1,:) <= 0.70) %only first row"
   ]
  },
  {
   "cell_type": "code",
   "execution_count": null,
   "metadata": {
    "collapsed": true
   },
   "outputs": [],
   "source": [
    "if (size(colMean,1) != 4);\n",
    "    disp(\"check - dimensions don't match\") %first check cond.1, TRUE do something\n",
    "elseif (size(colMean,2) != 5);\n",
    "    disp(\"check - dimensions don't match\") %FALSE then try cond.2, TRUE now do something different\n",
    "else\n",
    "    disp(\"good - dimensions match\") %FALSE again, do something else\n",
    "end"
   ]
  },
  {
   "cell_type": "code",
   "execution_count": null,
   "metadata": {
    "collapsed": true
   },
   "outputs": [],
   "source": [
    "y(strcmp(\"test\", y))\n",
    "%strfind(\"test\", y)"
   ]
  },
  {
   "cell_type": "code",
   "execution_count": null,
   "metadata": {
    "collapsed": true
   },
   "outputs": [],
   "source": [
    "#CHECK-IN POINT\n",
    "#EXERCISE - \n"
   ]
  },
  {
   "cell_type": "markdown",
   "metadata": {},
   "source": [
    "<font size=\"6\" color=\"68829E\" face=\"calibri\">\n",
    "<b> Iterations </b>\n",
    "</font>\n",
    "<br>\n",
    "<font size=\"4\" color=\"black\" face=\"calibri\">\n",
    "Scalar loops, element by element, can be used to repeat procedures (for & while). <br>\n",
    "Vectorization, all elements at once, however is faster and scalable - apply (array), lapply (list), sapply (vector). This is because XXX...\n",
    "</font>"
   ]
  },
  {
   "cell_type": "markdown",
   "metadata": {},
   "source": [
    "<div class=\"alert alert-block alert-info\">\n",
    "<b>#Tip 4.</b>  XXX.\n",
    "</div>"
   ]
  },
  {
   "cell_type": "code",
   "execution_count": null,
   "metadata": {
    "collapsed": true
   },
   "outputs": [],
   "source": [
    "%initiate variable of NA (missing values) to fill during loop (growing objects is inefficient)\n",
    "colMean = repmat(NA, [1, size(X,2)]);\n",
    "\n",
    "for i = 1:size(X,2);\n",
    "    %variable i in sequence start:end\n",
    "    i\n",
    "    colMean(i) = mean(X(:,i));\n",
    "    %break;%continue\n",
    "end\n",
    "\n",
    "colMean"
   ]
  },
  {
   "cell_type": "code",
   "execution_count": null,
   "metadata": {
    "collapsed": true
   },
   "outputs": [],
   "source": [
    "colMean = arrayfun(@(col)mean(X(:,col)), 1:size(X,2)); %column by column\n",
    "colMean\n",
    "\n",
    "%mean(X,1)"
   ]
  },
  {
   "cell_type": "code",
   "execution_count": null,
   "metadata": {
    "collapsed": true
   },
   "outputs": [],
   "source": [
    "rowSE = arrayfun(@(row)calculate_SE(X(row,:)), 1:size(X,1)); %row by row\n",
    "rowSE"
   ]
  },
  {
   "cell_type": "markdown",
   "metadata": {},
   "source": [
    "<font size=\"6\" color=\"68829E\" face=\"calibri\">\n",
    "<b> Packages </b>\n",
    "</font>\n",
    "<br>\n",
    "<font size=\"4\" color=\"black\" face=\"calibri\">\n",
    "Codes/functions developed by the community are organised and shared online in resposities - these can be retrieved/downloaded (source (compile) vs bundled (compressed) vs binary (pre-built)), structured into directories (libraries) and loaded into memory to use. Packages will often require other packages - dependencies. <br> <br>\n",
    "Repositories: Forge (official network), XXX (XXX), GitHub. <br>\n",
    "Packages: io, XXX, XXX.\n",
    "</font>"
   ]
  },
  {
   "cell_type": "code",
   "execution_count": null,
   "metadata": {
    "collapsed": true
   },
   "outputs": [],
   "source": [
    "pkg list %print available/downloaded packages\n",
    "#addpath('/home/riethoven/tpayne/octav')"
   ]
  },
  {
   "cell_type": "code",
   "execution_count": null,
   "metadata": {
    "collapsed": true
   },
   "outputs": [],
   "source": [
    "%pkg install -forge io\n",
    "pkg load io\n",
    "\n",
    "%pkg unload io"
   ]
  },
  {
   "cell_type": "markdown",
   "metadata": {},
   "source": [
    "<font size=\"6\" color=\"68829E\" face=\"calibri\">\n",
    "<b> Cells </b>\n",
    "</font>\n",
    "<br>\n",
    "<font size=\"4\" color=\"black\" face=\"calibri\">\n",
    "Cells are data containers that permit any data type/size (<i>curly brackets</i>). <br>\n",
    "XXX.\n",
    "</font>"
   ]
  },
  {
   "cell_type": "code",
   "execution_count": null,
   "metadata": {
    "collapsed": true
   },
   "outputs": [],
   "source": [
    "#cells - visualize toy example\n",
    "dat = [\n",
    "        [{\"sampleID\"}, {\"exp1\"}, {\"exp2\"}, {\"exp3\"}, {\"exp4\"}];\n",
    "        [{\"groupID\", \"control\", \"control\", \"test\", \"test\"}];\n",
    "        [{\"tp1\"}, {10}, {12}, {11}, {11}]; %measurement @ timepoint-1\n",
    "        [{\"tp2\"}, {20, 20, 38, 39}]; %measurement @ timepoint-2\n",
    "        [{\"tp3\", 20, 20, 50, 52}]; %measurement @ timepoint-3\n",
    "        ];\n",
    "\n",
    "dat"
   ]
  },
  {
   "cell_type": "code",
   "execution_count": null,
   "metadata": {
    "collapsed": true
   },
   "outputs": [],
   "source": [
    "class(dat)"
   ]
  },
  {
   "cell_type": "markdown",
   "metadata": {},
   "source": [
    "<font size=\"6\" color=\"68829E\" face=\"calibri\">\n",
    "<b> Manipulation </b>\n",
    "</font>\n",
    "<br>\n",
    "<font size=\"4\" color=\"black\" face=\"calibri\">\n",
    "Selecting and excluding variables and observations. <br>\n",
    "Base functions exist also and again can be coded multiple ways.\n",
    "</font>"
   ]
  },
  {
   "cell_type": "code",
   "execution_count": null,
   "metadata": {
    "collapsed": true
   },
   "outputs": [],
   "source": [
    "%unique(dat(2,:))\n",
    "\n",
    "datTest = dat(:, strcmp(dat(2,:), \"test\")==1);datTest\n",
    "indexTest = find( strcmp(dat(2,:),\"test\") ==1);indexTest\n",
    "\n",
    "datminusTest = dat;\n",
    "datminusTest(indexTest,:) = [];%datminusTest"
   ]
  },
  {
   "cell_type": "markdown",
   "metadata": {},
   "source": [
    "<font size=\"6\" color=\"68829E\" face=\"calibri\">\n",
    "<b> Structures </b>\n",
    "</font>\n",
    "<br>\n",
    "<font size=\"4\" color=\"black\" face=\"calibri\">\n",
    "Structures are data containers (fields) that group related data (<i>period</i>). <br>\n",
    "    Define structures with field (name) and value - scalar/nonscalar (s.f / s(n).f).\n",
    "</font>"
   ]
  },
  {
   "cell_type": "code",
   "execution_count": null,
   "metadata": {
    "collapsed": true
   },
   "outputs": [],
   "source": [
    "df.X = x;\n",
    "df.Y = y;\n",
    "df.title = 'toy example';\n",
    "\n",
    "fieldnames(df)"
   ]
  },
  {
   "cell_type": "code",
   "execution_count": null,
   "metadata": {
    "collapsed": true
   },
   "outputs": [],
   "source": [
    "#CHECK-IN POINT\n",
    "#EXERCISE - \n"
   ]
  },
  {
   "cell_type": "markdown",
   "metadata": {},
   "source": [
    "<font size=\"6\" color=\"68829E\" face=\"calibri\">\n",
    "<b> Plotting </b>\n",
    "</font>\n",
    "<br>\n",
    "<font size=\"4\" color=\"black\" face=\"calibri\">\n",
    "XXX. <br>\n",
    "XXX.<br>\n",
    "</font>"
   ]
  },
  {
   "cell_type": "code",
   "execution_count": null,
   "metadata": {
    "collapsed": true
   },
   "outputs": [],
   "source": [
    "x = [0.5:0.5:10];\n",
    "y = rand([1,20]);"
   ]
  },
  {
   "cell_type": "code",
   "execution_count": null,
   "metadata": {
    "collapsed": true
   },
   "outputs": [],
   "source": [
    "%figure;\n",
    "plot(x,y,'-ro');\n",
    "set(gca,'XLim',[0, 10.5],'YLim',[0, 1.5]);\n",
    "xlabel(\"random v1\");ylabel(\"random v2\");title(\"plt1\");"
   ]
  },
  {
   "cell_type": "code",
   "execution_count": null,
   "metadata": {
    "collapsed": true
   },
   "outputs": [],
   "source": [
    "%figure;\n",
    "plot(x,y,'--k');\n",
    "hold on;\n",
    "bar(x,y,'facecolor',[0.5,0.5,0.5],'edgecolor',[0.5,0.5,0.5]);\n",
    "hold on; \n",
    "plot(x,y,'o','markeredgecolor',[0,0,1],'markerfacecolor',[0,0,1],'markersize',8);\n",
    "set(gca,'XLim',[0, 10.5],'YLim',[0, 1.5]);\n",
    "xlabel(\"random v1\");ylabel(\"random v2\");title(\"plt2\");"
   ]
  },
  {
   "cell_type": "code",
   "execution_count": null,
   "metadata": {
    "collapsed": true
   },
   "outputs": [],
   "source": [
    "z = rand([1,20])*100;"
   ]
  },
  {
   "cell_type": "code",
   "execution_count": null,
   "metadata": {
    "collapsed": true
   },
   "outputs": [],
   "source": [
    "%figure;\n",
    "plot3(x(:), y(:), z(:), 'o','markeredgecolor',[0,0,0],'markerfacecolor',[0,1,0],'markersize',10)\n",
    "grid minor on\n",
    "xlabel(\"random v1\");ylabel(\"random v2\");zlabel(\"random v3\");title(\"plt3\");"
   ]
  },
  {
   "cell_type": "code",
   "execution_count": null,
   "metadata": {
    "collapsed": true
   },
   "outputs": [],
   "source": [
    "%figure;\n",
    "[ax, h1, h2] = plotyy(x,y,x,z);\n",
    "set ([h1, h2], \"linestyle\", \"--\");\n",
    "set(h1, 'color', [1,0,1]);set(h2, 'color', [0 1 1]);\n",
    "set(ax(1), 'Ycolor', [1,0,1]);set(ax(2), 'Ycolor', [0 1 1]);\n",
    "xlabel(\"random v1\");ylabel(ax(1), \"random v2\");ylabel(ax(2), \"random v3\");title(\"plt4\");"
   ]
  },
  {
   "cell_type": "code",
   "execution_count": null,
   "metadata": {
    "collapsed": true
   },
   "outputs": [],
   "source": [
    "pdf(\"Figures.pdf\", width=40, height=20)\n",
    "print(plt1)\n",
    "print(plt2)\n",
    "print(plt3)\n",
    "print(plt4)\n",
    "dev.off()\n",
    "\n",
    "#ggsave()"
   ]
  },
  {
   "cell_type": "markdown",
   "metadata": {},
   "source": [
    "<font size=\"6\" color=\"68829E\" face=\"calibri\">\n",
    "<b> Saving</b>\n",
    "</font>\n",
    "<br>\n",
    "<font size=\"4\" color=\"black\" face=\"calibri\">\n",
    "Workspace objects can be saved as <i>.mat </i> files for logged records or future use. <br>\n",
    "Results (data, figures, apps) can be outputted as other files also.\n",
    "</font>"
   ]
  },
  {
   "cell_type": "code",
   "execution_count": null,
   "metadata": {
    "collapsed": true
   },
   "outputs": [],
   "source": [
    "whos"
   ]
  },
  {
   "cell_type": "code",
   "execution_count": null,
   "metadata": {
    "collapsed": true
   },
   "outputs": [],
   "source": [
    "clear ('height', 'width')\n",
    "whos"
   ]
  },
  {
   "cell_type": "code",
   "execution_count": null,
   "metadata": {
    "collapsed": true
   },
   "outputs": [],
   "source": [
    "save('data_05292019.mat');\n",
    "#load('data_05292019.mat');"
   ]
  },
  {
   "cell_type": "code",
   "execution_count": null,
   "metadata": {
    "collapsed": true
   },
   "outputs": [],
   "source": [
    "cell2csv('ExampleGGData.csv', dat)\n",
    "\n",
    "newFilecel = {dir(pwd())(:).name};\n",
    "newFilecel(find( cellfun(@isempty, strfind(newFilecel, \".csv\")) ==0))\n",
    "\n",
    "#clear;clc"
   ]
  },
  {
   "cell_type": "code",
   "execution_count": null,
   "metadata": {
    "collapsed": true
   },
   "outputs": [],
   "source": [
    "%xlswrite('data_05252019.xlsx', dat)"
   ]
  },
  {
   "cell_type": "code",
   "execution_count": null,
   "metadata": {
    "collapsed": true
   },
   "outputs": [],
   "source": [
    "%save ExampleGGData.txt dat "
   ]
  },
  {
   "cell_type": "markdown",
   "metadata": {},
   "source": [
    "<font size=\"6\" color=\"68829E\" face=\"calibri\">\n",
    "<b> Loading</b>\n",
    "</font>\n",
    "<br>\n",
    "<font size=\"4\" color=\"black\" face=\"calibri\">\n",
    "Importing data into Octave from files (.csv/.txt) can range in complexity - multiple options/arguments. <br>\n",
    "Examples: separator/delimiter (<i>\",\", \"\\t\", \" \"</i>), header.\n",
    "</font>"
   ]
  },
  {
   "cell_type": "code",
   "execution_count": null,
   "metadata": {
    "collapsed": true
   },
   "outputs": [],
   "source": [
    "[num2,txt2,raw2] = xlsread('data_05252019.xlsx')\n",
    "%df = csv2cell('ExampleGGData.csv');\n",
    "\n",
    "df = read.table(file=\"ExampleGGData.csv\", sep=\",\")\n",
    "head(df)\n",
    "\n",
    "#read.csv()\n",
    "#read.delim()"
   ]
  },
  {
   "cell_type": "code",
   "execution_count": null,
   "metadata": {
    "collapsed": true
   },
   "outputs": [],
   "source": [
    "#quit()"
   ]
  },
  {
   "cell_type": "markdown",
   "metadata": {},
   "source": [
    "<font size=\"6\" color=\"68829E\" face=\"calibri\">\n",
    "<b> Command Line </b>\n",
    "</font>\n",
    "<br>\n",
    "<font size=\"4\" color=\"black\" face=\"calibri\">\n",
    "XXX.\n",
    "</font>"
   ]
  },
  {
   "cell_type": "markdown",
   "metadata": {},
   "source": [
    "``` $ octave Ocode.m ```"
   ]
  },
  {
   "cell_type": "markdown",
   "metadata": {},
   "source": [
    "<font size=\"4\" color=\"black\" face=\"calibri\">\n",
    "<b><i>References</i></b> <br>\n",
    "</font>\n",
    "<font size=\"4\" color=\"black\" face=\"calibri\">\n",
    "Software Carpentry: Our Lessons (<a href=\"https://software-carpentry.org/lessons/\">https://software-carpentry.org/lessons</a>) <br>"
   ]
  },
  {
   "cell_type": "markdown",
   "metadata": {},
   "source": [
    "<font size=\"2\" color=\"black\" face=\"calibri\"> <b>\n",
    "Introduction: Octave and Jupyter <br>\n",
    "</b> </font>"
   ]
  }
 ],
 "metadata": {
  "kernelspec": {
   "display_name": "Matlab r2019a",
   "language": "matlab",
   "name": "matlab-r2019a"
  },
  "language_info": {
   "codemirror_mode": "octave",
   "file_extension": ".m",
   "help_links": [
    {
     "text": "MetaKernel Magics",
     "url": "https://metakernel.readthedocs.io/en/latest/source/README.html"
    }
   ],
   "mimetype": "text/x-octave",
   "name": "matlab",
   "version": "0.16.7"
  }
 },
 "nbformat": 4,
 "nbformat_minor": 2
}
