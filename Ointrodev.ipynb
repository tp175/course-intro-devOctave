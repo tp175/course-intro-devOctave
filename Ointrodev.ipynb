{
 "cells": [
  {
   "cell_type": "markdown",
   "metadata": {},
   "source": [
    "<font size=\"6\" color=\"68829E\" face=\"calibri\"> <b> 'Octave: Some Basics' </b> </font>"
   ]
  },
  {
   "cell_type": "markdown",
   "metadata": {},
   "source": [
    "<font size=\"4\" color=\"#000000\" face=\"calibri\">\n",
    "Welcome to Octave, on HCC, through Jupyter. <br> <br>\n",
    "\"XXX\" <br>\n",
    "<a href=\"https://www.r-project.org/\"> www.r-project.org </a> <br> <br>\n",
    "Here, we'll be touching upon some of the fundamentals of the Octave language (often interchangable with MATLAB).<br> <br>\n",
    "</font>\n",
    "<font size=\"3\" color=\"#000000\" face=\"calibri\">\n",
    "#Tip 1. XXX.\n",
    "</font>"
   ]
  },
  {
   "cell_type": "markdown",
   "metadata": {},
   "source": [
    "<font size=\"5\" color=\"68829E\" face=\"calibri\">\n",
    "<b> Environment </b>\n",
    "</font>\n",
    "<br>\n",
    "<font size=\"4\" color=\"black\" face=\"calibri\">\n",
    "XXX. <br>\n",
    "console...\n",
    "</font>"
   ]
  },
  {
   "cell_type": "code",
   "execution_count": null,
   "metadata": {
    "collapsed": true,
    "scrolled": false
   },
   "outputs": [],
   "source": [
    "#module load R.3.4\n",
    "#R\n",
    "sessionInfo()"
   ]
  },
  {
   "cell_type": "code",
   "execution_count": null,
   "metadata": {
    "collapsed": true
   },
   "outputs": [],
   "source": [
    "getwd()\n",
    "#setwd('/home/')"
   ]
  },
  {
   "cell_type": "code",
   "execution_count": null,
   "metadata": {
    "collapsed": true
   },
   "outputs": [],
   "source": [
    "list.files()\n",
    "#ls()"
   ]
  },
  {
   "cell_type": "markdown",
   "metadata": {},
   "source": [
    "<font size=\"5\" color=\"68829E\" face=\"calibri\">\n",
    "<b> Calculations </b>\n",
    "</font>\n",
    "<br>\n",
    "<font size=\"4\" color=\"black\" face=\"calibri\">\n",
    "Mathematical calculations - elements & arrays (/vectors). <br>\n",
    "Example operators: ``` + , - , * , / , ^ ```.\n",
    "</font>"
   ]
  },
  {
   "cell_type": "code",
   "execution_count": null,
   "metadata": {
    "collapsed": true,
    "scrolled": true
   },
   "outputs": [],
   "source": [
    "(20+20)/5"
   ]
  },
  {
   "cell_type": "code",
   "execution_count": null,
   "metadata": {
    "collapsed": true
   },
   "outputs": [],
   "source": [
    "c(1,2,3,4) * c(1,2,3,4)"
   ]
  },
  {
   "cell_type": "code",
   "execution_count": null,
   "metadata": {
    "collapsed": true
   },
   "outputs": [],
   "source": [
    "sqrt(81) "
   ]
  },
  {
   "cell_type": "markdown",
   "metadata": {},
   "source": [
    "<font size=\"5\" color=\"68829E\" face=\"calibri\">\n",
    "<b> Functions </b>\n",
    "</font>\n",
    "<br>\n",
    "<font size=\"4\" color=\"black\" face=\"calibri\">\n",
    "Perform procedures - Input to Output with options/arguments (*round brackets*). <br>\n",
    "With no defined arguments, functions will resort to default values found in documentation (?/help).\n",
    "</font>\n",
    "<br> <br>\n",
    "<font size=\"3\" color=\"#000000\" face=\"calibri\">\n",
    "#Tip 2. source(\"XXX.R\").\n",
    "</font>"
   ]
  },
  {
   "cell_type": "code",
   "execution_count": null,
   "metadata": {
    "collapsed": true
   },
   "outputs": [],
   "source": [
    "print(sort(runif(10, min=0, max=1)), decreasing=FALSE)"
   ]
  },
  {
   "cell_type": "code",
   "execution_count": null,
   "metadata": {
    "collapsed": true
   },
   "outputs": [],
   "source": [
    "?sort"
   ]
  },
  {
   "cell_type": "code",
   "execution_count": null,
   "metadata": {
    "collapsed": true
   },
   "outputs": [],
   "source": [
    "calculate_SE <- function(x){\n",
    "    #function to calculate standard error.\n",
    "    sqrt(var(x) / length(x))\n",
    "}\n",
    "\n",
    "calculate_SE(c(10.4, 5.6, 3.1, 6.4, 21.7))"
   ]
  },
  {
   "cell_type": "markdown",
   "metadata": {},
   "source": [
    "<font size=\"5\" color=\"68829E\" face=\"calibri\">\n",
    "<b> Assignment </b>\n",
    "</font>\n",
    "<br>\n",
    "<font size=\"4\" color=\"black\" face=\"calibri\">\n",
    "Commands ``` <- OR = ``` assigns and saves outputs (results). <br> <br>\n",
    "R operates on named data structures, that is, sets of ordered entities.<br>\n",
    "Example vectors: numeric (double, integer, complex), logical, character.\n",
    "</font>"
   ]
  },
  {
   "cell_type": "code",
   "execution_count": null,
   "metadata": {
    "collapsed": true
   },
   "outputs": [],
   "source": [
    "x <- c(10.4, 5.6, 3.1, 6.4, 21.7); \n",
    "#x = c(10.4, 5.6, 3.1, 6.4, 21.7);\n",
    "x"
   ]
  },
  {
   "cell_type": "code",
   "execution_count": null,
   "metadata": {
    "collapsed": true
   },
   "outputs": [],
   "source": [
    "y <- c(\"test\", \"control\", \"control\", \"control\", \"test\");\n",
    "#y = c(\"test\", \"control\", \"control\", \"control\", \"test\");\n",
    "y"
   ]
  },
  {
   "cell_type": "code",
   "execution_count": null,
   "metadata": {
    "collapsed": true
   },
   "outputs": [],
   "source": [
    "as.character(x)"
   ]
  },
  {
   "cell_type": "markdown",
   "metadata": {},
   "source": [
    "<font size=\"5\" color=\"68829E\" face=\"calibri\">\n",
    "<b> Objects </b>\n",
    "</font>\n",
    "<br>\n",
    "<font size=\"4\" color=\"black\" face=\"calibri\">\n",
    "While vectors are the most important type of object/structure/variable in R, others exist each with intrinsic attributes (mode and length). Conversion between types is relatively intuitative. <br>\n",
    "Examples: matrices, lists, dataframes.\n",
    "</font>"
   ]
  },
  {
   "cell_type": "code",
   "execution_count": 18,
   "metadata": {
    "scrolled": false
   },
   "outputs": [
    {
     "data": {
      "text/html": [
       "'matrix'"
      ],
      "text/latex": [
       "'matrix'"
      ],
      "text/markdown": [
       "'matrix'"
      ],
      "text/plain": [
       "[1] \"matrix\""
      ]
     },
     "metadata": {},
     "output_type": "display_data"
    },
    {
     "data": {
      "text/html": [
       "<table>\n",
       "<tbody>\n",
       "\t<tr><td>3.8594203</td><td>5.940382 </td><td>2.6440606</td><td>0.9405656</td><td>2.204724 </td></tr>\n",
       "\t<tr><td>0.3819437</td><td>1.541752 </td><td>7.8962458</td><td>6.4846750</td><td>4.906976 </td></tr>\n",
       "\t<tr><td>4.5934645</td><td>8.028589 </td><td>0.8201421</td><td>0.8895683</td><td>2.499225 </td></tr>\n",
       "\t<tr><td>6.9254599</td><td>3.710631 </td><td>8.9243360</td><td>8.1856273</td><td>4.265672 </td></tr>\n",
       "</tbody>\n",
       "</table>\n"
      ],
      "text/latex": [
       "\\begin{tabular}{lllll}\n",
       "\t 3.8594203 & 5.940382  & 2.6440606 & 0.9405656 & 2.204724 \\\\\n",
       "\t 0.3819437 & 1.541752  & 7.8962458 & 6.4846750 & 4.906976 \\\\\n",
       "\t 4.5934645 & 8.028589  & 0.8201421 & 0.8895683 & 2.499225 \\\\\n",
       "\t 6.9254599 & 3.710631  & 8.9243360 & 8.1856273 & 4.265672 \\\\\n",
       "\\end{tabular}\n"
      ],
      "text/markdown": [
       "\n",
       "| 3.8594203 | 5.940382  | 2.6440606 | 0.9405656 | 2.204724  | \n",
       "| 0.3819437 | 1.541752  | 7.8962458 | 6.4846750 | 4.906976  | \n",
       "| 4.5934645 | 8.028589  | 0.8201421 | 0.8895683 | 2.499225  | \n",
       "| 6.9254599 | 3.710631  | 8.9243360 | 8.1856273 | 4.265672  | \n",
       "\n",
       "\n"
      ],
      "text/plain": [
       "     [,1]      [,2]     [,3]      [,4]      [,5]    \n",
       "[1,] 3.8594203 5.940382 2.6440606 0.9405656 2.204724\n",
       "[2,] 0.3819437 1.541752 7.8962458 6.4846750 4.906976\n",
       "[3,] 4.5934645 8.028589 0.8201421 0.8895683 2.499225\n",
       "[4,] 6.9254599 3.710631 8.9243360 8.1856273 4.265672"
      ]
     },
     "metadata": {},
     "output_type": "display_data"
    }
   ],
   "source": [
    "X = matrix(runif(20, min=0, max=10), nrow=4, ncol=5, byrow=FALSE);\n",
    "X"
   ]
  },
  {
   "cell_type": "markdown",
   "metadata": {},
   "source": [
    "<font size=\"5\" color=\"68829E\" face=\"calibri\">\n",
    "<b> Indexing </b>\n",
    "</font>\n",
    "<br>\n",
    "<font size=\"4\" color=\"black\" face=\"calibri\">\n",
    "Manipulate parts of a dataset - rows then columns (*square brackets*).\n",
    "</font>"
   ]
  },
  {
   "cell_type": "code",
   "execution_count": null,
   "metadata": {
    "collapsed": true,
    "scrolled": true
   },
   "outputs": [],
   "source": [
    "X[2,4]"
   ]
  },
  {
   "cell_type": "code",
   "execution_count": null,
   "metadata": {
    "collapsed": true
   },
   "outputs": [],
   "source": [
    "t(X)[2,4]"
   ]
  },
  {
   "cell_type": "code",
   "execution_count": null,
   "metadata": {
    "collapsed": true
   },
   "outputs": [],
   "source": [
    "X[1:3,2:3]"
   ]
  },
  {
   "cell_type": "code",
   "execution_count": null,
   "metadata": {
    "collapsed": true
   },
   "outputs": [],
   "source": [
    "cbind(X[1:3,2], X[1:3,3])"
   ]
  },
  {
   "cell_type": "code",
   "execution_count": null,
   "metadata": {
    "collapsed": true
   },
   "outputs": [],
   "source": [
    "rbind(X[1,2:3], X[2,2:3], X[3,2:3])"
   ]
  },
  {
   "cell_type": "markdown",
   "metadata": {},
   "source": [
    "<font size=\"5\" color=\"68829E\" face=\"calibri\">\n",
    "<b> Iterations </b>\n",
    "</font>\n",
    "<br>\n",
    "<font size=\"4\" color=\"black\" face=\"calibri\">\n",
    "Loops can be used to repeat procedures (for / while). <br>\n",
    "However, vectorize is faster - apply (array), lapply (list), sapply (vector). <br> <br>\n",
    "</font>\n",
    "<font size=\"3\" color=\"#000000\" face=\"calibri\">\n",
    "#Tip 3. Check system.time().\n",
    "</font>"
   ]
  },
  {
   "cell_type": "code",
   "execution_count": null,
   "metadata": {
    "collapsed": true
   },
   "outputs": [],
   "source": [
    "colMean = rep(NA, dim(X)[2]);\n",
    "for (i in 1:dim(X)[2]){\n",
    "    colMean[i] = mean(X[,i])\n",
    "}\n",
    "colMean"
   ]
  },
  {
   "cell_type": "code",
   "execution_count": null,
   "metadata": {
    "collapsed": true
   },
   "outputs": [],
   "source": [
    "colMean = apply(X, 2, mean)\n",
    "colMean\n",
    "\n",
    "#colMeans(X)"
   ]
  },
  {
   "cell_type": "code",
   "execution_count": null,
   "metadata": {
    "collapsed": true
   },
   "outputs": [],
   "source": [
    "rowSE = apply(X, 1, calculate_SE)\n",
    "rowSE"
   ]
  },
  {
   "cell_type": "markdown",
   "metadata": {},
   "source": [
    "<font size=\"5\" color=\"68829E\" face=\"calibri\">\n",
    "<b> Conditions </b>\n",
    "</font>\n",
    "<br>\n",
    "<font size=\"4\" color=\"black\" face=\"calibri\">\n",
    "Checks can control the flow of actions. <br>\n",
    "Comparsion: less than (``` < ```), great than (``` > ```), equal (``` == ```), different (``` != ```). <br>\n",
    "Logical: AND (``` & ```) if both *true*, OR (``` | ```) if either *true*, NOT (``` ! ```) converts *true* to *false*.\n",
    "</font>"
   ]
  },
  {
   "cell_type": "code",
   "execution_count": null,
   "metadata": {
    "collapsed": true
   },
   "outputs": [],
   "source": [
    "if (length(colMean) == 5) {\n",
    "  print(\"good - dimensions match\")\n",
    "} else {\n",
    "  print(\"check - dimensions don't match\")\n",
    "}"
   ]
  },
  {
   "cell_type": "markdown",
   "metadata": {},
   "source": [
    "<font size=\"5\" color=\"68829E\" face=\"calibri\">\n",
    "<b> Packages </b>\n",
    "</font>\n",
    "<br>\n",
    "<font size=\"4\" color=\"black\" face=\"calibri\">\n",
    "Codes/functions (and datasets) developed by the community are organised and shared online in resposities - these can be retrieved/downloaded, unpacked into files/directories and used. <br>\n",
    "XXX dependencies XXX <br>\n",
    "Repositories: CRAN (official network), Bioconductor (bioinformatic specific), GitHub. <br>\n",
    "Packages: Tidyverse, Shiny, XXX.\n",
    "</font>"
   ]
  },
  {
   "cell_type": "code",
   "execution_count": null,
   "metadata": {
    "collapsed": true
   },
   "outputs": [],
   "source": [
    "#install.packages('ggplot2')\n",
    "library(ggplot2)\n",
    "\n",
    "#source(\"https://bioconductor.org/biocLite.R\");biocLite()\n",
    "#install.packages('devtools');devtools::install_github()"
   ]
  },
  {
   "cell_type": "code",
   "execution_count": null,
   "metadata": {
    "collapsed": true
   },
   "outputs": [],
   "source": [
    "data(package = \"ggplot2\")"
   ]
  },
  {
   "cell_type": "code",
   "execution_count": null,
   "metadata": {
    "collapsed": true
   },
   "outputs": [],
   "source": [
    "#data(\"mpg\", package = \"ggplot2\")\n",
    "data(\"midwest\", package = \"ggplot2\")\n",
    "\n",
    "dat = midwest;\n",
    "typeof(dat)\n",
    "dim(dat)\n",
    "head(dat)\n",
    "\n",
    "#detach(\"package:ggplot2\")"
   ]
  },
  {
   "cell_type": "markdown",
   "metadata": {},
   "source": [
    "<font size=\"5\" color=\"68829E\" face=\"calibri\">\n",
    "<b> Subsetting </b>\n",
    "</font>\n",
    "<br>\n",
    "<font size=\"4\" color=\"black\" face=\"calibri\">\n",
    "Selecting and excluding variables and observations. <br>\n",
    "XXX.\n",
    "</font>"
   ]
  },
  {
   "cell_type": "code",
   "execution_count": null,
   "metadata": {
    "collapsed": true
   },
   "outputs": [],
   "source": [
    "print(colnames(dat))\n",
    "#rownames(dat)"
   ]
  },
  {
   "cell_type": "code",
   "execution_count": null,
   "metadata": {
    "collapsed": true
   },
   "outputs": [],
   "source": [
    "#unique(dat$state)\n",
    "\n",
    "datOH = dat[dat$state==\"OH\",];head(datOH)\n",
    "indexOH = which(dat$state==\"OH\");indexOH[1:10]\n",
    "\n",
    "datminusOH = dat[-indexOH,];"
   ]
  },
  {
   "cell_type": "code",
   "execution_count": null,
   "metadata": {
    "collapsed": true
   },
   "outputs": [],
   "source": [
    "#install.packages('dplyr')\n",
    "suppressMessages(library(dplyr))\n",
    "\n",
    "#unique(dat$category)\n",
    "\n",
    "datsubAAR = dat %>% \n",
    "    filter(category==\"AAR\") %>%\n",
    "    select(county, state, poptotal, category)\n",
    "head(datsubAAR)"
   ]
  },
  {
   "cell_type": "markdown",
   "metadata": {},
   "source": [
    "<font size=\"5\" color=\"68829E\" face=\"calibri\">\n",
    "<b> Dataframes </b>\n",
    "</font>\n",
    "<br>\n",
    "<font size=\"4\" color=\"black\" face=\"calibri\">\n",
    "XXX. <br>\n",
    "XXX.\n",
    "</font>"
   ]
  },
  {
   "cell_type": "code",
   "execution_count": 21,
   "metadata": {},
   "outputs": [
    {
     "data": {
      "text/html": [
       "<ol class=list-inline>\n",
       "\t<li>'tbl_df'</li>\n",
       "\t<li>'tbl'</li>\n",
       "\t<li>'data.frame'</li>\n",
       "</ol>\n"
      ],
      "text/latex": [
       "\\begin{enumerate*}\n",
       "\\item 'tbl\\_df'\n",
       "\\item 'tbl'\n",
       "\\item 'data.frame'\n",
       "\\end{enumerate*}\n"
      ],
      "text/markdown": [
       "1. 'tbl_df'\n",
       "2. 'tbl'\n",
       "3. 'data.frame'\n",
       "\n",
       "\n"
      ],
      "text/plain": [
       "[1] \"tbl_df\"     \"tbl\"        \"data.frame\""
      ]
     },
     "metadata": {},
     "output_type": "display_data"
    },
    {
     "data": {
      "text/html": [
       "<table>\n",
       "<thead><tr><th scope=col>PID</th><th scope=col>county</th><th scope=col>state</th><th scope=col>area</th><th scope=col>poptotal</th><th scope=col>popdensity</th><th scope=col>popwhite</th><th scope=col>popblack</th><th scope=col>popamerindian</th><th scope=col>popasian</th><th scope=col>⋯</th><th scope=col>percollege</th><th scope=col>percprof</th><th scope=col>poppovertyknown</th><th scope=col>percpovertyknown</th><th scope=col>percbelowpoverty</th><th scope=col>percchildbelowpovert</th><th scope=col>percadultpoverty</th><th scope=col>percelderlypoverty</th><th scope=col>inmetro</th><th scope=col>category</th></tr></thead>\n",
       "<tbody>\n",
       "\t<tr><td>561      </td><td>ADAMS    </td><td>IL       </td><td>0.052    </td><td>66090    </td><td>1270.9615</td><td>63917    </td><td>1702     </td><td>98       </td><td>249      </td><td>⋯        </td><td>19.63139 </td><td>4.355859 </td><td>63628    </td><td>96.27478 </td><td>13.151443</td><td>18.01172 </td><td>11.009776</td><td>12.443812</td><td>0        </td><td>AAR      </td></tr>\n",
       "\t<tr><td>562      </td><td>ALEXANDER</td><td>IL       </td><td>0.014    </td><td>10626    </td><td> 759.0000</td><td> 7054    </td><td>3496     </td><td>19       </td><td> 48      </td><td>⋯        </td><td>11.24331 </td><td>2.870315 </td><td>10529    </td><td>99.08714 </td><td>32.244278</td><td>45.82651 </td><td>27.385647</td><td>25.228976</td><td>0        </td><td>LHR      </td></tr>\n",
       "\t<tr><td>563      </td><td>BOND     </td><td>IL       </td><td>0.022    </td><td>14991    </td><td> 681.4091</td><td>14477    </td><td> 429     </td><td>35       </td><td> 16      </td><td>⋯        </td><td>17.03382 </td><td>4.488572 </td><td>14235    </td><td>94.95697 </td><td>12.068844</td><td>14.03606 </td><td>10.852090</td><td>12.697410</td><td>0        </td><td>AAR      </td></tr>\n",
       "\t<tr><td>564      </td><td>BOONE    </td><td>IL       </td><td>0.017    </td><td>30806    </td><td>1812.1176</td><td>29344    </td><td> 127     </td><td>46       </td><td>150      </td><td>⋯        </td><td>17.27895 </td><td>4.197800 </td><td>30337    </td><td>98.47757 </td><td> 7.209019</td><td>11.17954 </td><td> 5.536013</td><td> 6.217047</td><td>1        </td><td>ALU      </td></tr>\n",
       "\t<tr><td>565      </td><td>BROWN    </td><td>IL       </td><td>0.018    </td><td> 5836    </td><td> 324.2222</td><td> 5264    </td><td> 547     </td><td>14       </td><td>  5      </td><td>⋯        </td><td>14.47600 </td><td>3.367680 </td><td> 4815    </td><td>82.50514 </td><td>13.520249</td><td>13.02289 </td><td>11.143211</td><td>19.200000</td><td>0        </td><td>AAR      </td></tr>\n",
       "\t<tr><td>566      </td><td>BUREAU   </td><td>IL       </td><td>0.050    </td><td>35688    </td><td> 713.7600</td><td>35157    </td><td>  50     </td><td>65       </td><td>195      </td><td>⋯        </td><td>18.90462 </td><td>3.275891 </td><td>35107    </td><td>98.37200 </td><td>10.399635</td><td>14.15882 </td><td> 8.179287</td><td>11.008586</td><td>0        </td><td>AAR      </td></tr>\n",
       "</tbody>\n",
       "</table>\n"
      ],
      "text/latex": [
       "\\begin{tabular}{r|llllllllllllllllllllllllllll}\n",
       " PID & county & state & area & poptotal & popdensity & popwhite & popblack & popamerindian & popasian & ⋯ & percollege & percprof & poppovertyknown & percpovertyknown & percbelowpoverty & percchildbelowpovert & percadultpoverty & percelderlypoverty & inmetro & category\\\\\n",
       "\\hline\n",
       "\t 561       & ADAMS     & IL        & 0.052     & 66090     & 1270.9615 & 63917     & 1702      & 98        & 249       & ⋯         & 19.63139  & 4.355859  & 63628     & 96.27478  & 13.151443 & 18.01172  & 11.009776 & 12.443812 & 0         & AAR      \\\\\n",
       "\t 562       & ALEXANDER & IL        & 0.014     & 10626     &  759.0000 &  7054     & 3496      & 19        &  48       & ⋯         & 11.24331  & 2.870315  & 10529     & 99.08714  & 32.244278 & 45.82651  & 27.385647 & 25.228976 & 0         & LHR      \\\\\n",
       "\t 563       & BOND      & IL        & 0.022     & 14991     &  681.4091 & 14477     &  429      & 35        &  16       & ⋯         & 17.03382  & 4.488572  & 14235     & 94.95697  & 12.068844 & 14.03606  & 10.852090 & 12.697410 & 0         & AAR      \\\\\n",
       "\t 564       & BOONE     & IL        & 0.017     & 30806     & 1812.1176 & 29344     &  127      & 46        & 150       & ⋯         & 17.27895  & 4.197800  & 30337     & 98.47757  &  7.209019 & 11.17954  &  5.536013 &  6.217047 & 1         & ALU      \\\\\n",
       "\t 565       & BROWN     & IL        & 0.018     &  5836     &  324.2222 &  5264     &  547      & 14        &   5       & ⋯         & 14.47600  & 3.367680  &  4815     & 82.50514  & 13.520249 & 13.02289  & 11.143211 & 19.200000 & 0         & AAR      \\\\\n",
       "\t 566       & BUREAU    & IL        & 0.050     & 35688     &  713.7600 & 35157     &   50      & 65        & 195       & ⋯         & 18.90462  & 3.275891  & 35107     & 98.37200  & 10.399635 & 14.15882  &  8.179287 & 11.008586 & 0         & AAR      \\\\\n",
       "\\end{tabular}\n"
      ],
      "text/markdown": [
       "\n",
       "PID | county | state | area | poptotal | popdensity | popwhite | popblack | popamerindian | popasian | ⋯ | percollege | percprof | poppovertyknown | percpovertyknown | percbelowpoverty | percchildbelowpovert | percadultpoverty | percelderlypoverty | inmetro | category | \n",
       "|---|---|---|---|---|---|\n",
       "| 561       | ADAMS     | IL        | 0.052     | 66090     | 1270.9615 | 63917     | 1702      | 98        | 249       | ⋯         | 19.63139  | 4.355859  | 63628     | 96.27478  | 13.151443 | 18.01172  | 11.009776 | 12.443812 | 0         | AAR       | \n",
       "| 562       | ALEXANDER | IL        | 0.014     | 10626     |  759.0000 |  7054     | 3496      | 19        |  48       | ⋯         | 11.24331  | 2.870315  | 10529     | 99.08714  | 32.244278 | 45.82651  | 27.385647 | 25.228976 | 0         | LHR       | \n",
       "| 563       | BOND      | IL        | 0.022     | 14991     |  681.4091 | 14477     |  429      | 35        |  16       | ⋯         | 17.03382  | 4.488572  | 14235     | 94.95697  | 12.068844 | 14.03606  | 10.852090 | 12.697410 | 0         | AAR       | \n",
       "| 564       | BOONE     | IL        | 0.017     | 30806     | 1812.1176 | 29344     |  127      | 46        | 150       | ⋯         | 17.27895  | 4.197800  | 30337     | 98.47757  |  7.209019 | 11.17954  |  5.536013 |  6.217047 | 1         | ALU       | \n",
       "| 565       | BROWN     | IL        | 0.018     |  5836     |  324.2222 |  5264     |  547      | 14        |   5       | ⋯         | 14.47600  | 3.367680  |  4815     | 82.50514  | 13.520249 | 13.02289  | 11.143211 | 19.200000 | 0         | AAR       | \n",
       "| 566       | BUREAU    | IL        | 0.050     | 35688     |  713.7600 | 35157     |   50      | 65        | 195       | ⋯         | 18.90462  | 3.275891  | 35107     | 98.37200  | 10.399635 | 14.15882  |  8.179287 | 11.008586 | 0         | AAR       | \n",
       "\n",
       "\n"
      ],
      "text/plain": [
       "  PID county    state area  poptotal popdensity popwhite popblack popamerindian\n",
       "1 561 ADAMS     IL    0.052 66090    1270.9615  63917    1702     98           \n",
       "2 562 ALEXANDER IL    0.014 10626     759.0000   7054    3496     19           \n",
       "3 563 BOND      IL    0.022 14991     681.4091  14477     429     35           \n",
       "4 564 BOONE     IL    0.017 30806    1812.1176  29344     127     46           \n",
       "5 565 BROWN     IL    0.018  5836     324.2222   5264     547     14           \n",
       "6 566 BUREAU    IL    0.050 35688     713.7600  35157      50     65           \n",
       "  popasian ⋯ percollege percprof poppovertyknown percpovertyknown\n",
       "1 249      ⋯ 19.63139   4.355859 63628           96.27478        \n",
       "2  48      ⋯ 11.24331   2.870315 10529           99.08714        \n",
       "3  16      ⋯ 17.03382   4.488572 14235           94.95697        \n",
       "4 150      ⋯ 17.27895   4.197800 30337           98.47757        \n",
       "5   5      ⋯ 14.47600   3.367680  4815           82.50514        \n",
       "6 195      ⋯ 18.90462   3.275891 35107           98.37200        \n",
       "  percbelowpoverty percchildbelowpovert percadultpoverty percelderlypoverty\n",
       "1 13.151443        18.01172             11.009776        12.443812         \n",
       "2 32.244278        45.82651             27.385647        25.228976         \n",
       "3 12.068844        14.03606             10.852090        12.697410         \n",
       "4  7.209019        11.17954              5.536013         6.217047         \n",
       "5 13.520249        13.02289             11.143211        19.200000         \n",
       "6 10.399635        14.15882              8.179287        11.008586         \n",
       "  inmetro category\n",
       "1 0       AAR     \n",
       "2 0       LHR     \n",
       "3 0       AAR     \n",
       "4 1       ALU     \n",
       "5 0       AAR     \n",
       "6 0       AAR     "
      ]
     },
     "metadata": {},
     "output_type": "display_data"
    }
   ],
   "source": [
    "class(dat)\n",
    "\n",
    "head(dat)"
   ]
  },
  {
   "cell_type": "markdown",
   "metadata": {},
   "source": [
    "<font size=\"5\" color=\"68829E\" face=\"calibri\">\n",
    "<b> Plotting </b>\n",
    "</font>\n",
    "<br>\n",
    "<font size=\"4\" color=\"black\" face=\"calibri\">\n",
    "XXX. <br>\n",
    "XXX.<br>\n",
    "</font>"
   ]
  },
  {
   "cell_type": "code",
   "execution_count": null,
   "metadata": {
    "collapsed": true
   },
   "outputs": [],
   "source": [
    "plt1 = ggplot(data=dat, aes(x=area, y=poptotal, color=state)) +\n",
    "    geom_point() + ggtitle(\"plot1\") +\n",
    "    theme(\n",
    "        axis.title = element_text(face=\"bold\", size=9),\n",
    "        axis.text = element_text(size=7),\n",
    "        legend.title = element_text(face=\"bold\", size=9),\n",
    "        legend.text = element_text(size=7),\n",
    "        legend.position = \"bottom\",\n",
    "        plot.title = element_text(face=\"bold\", size=11)\n",
    "    )\n",
    "    \n",
    "plt1"
   ]
  },
  {
   "cell_type": "code",
   "execution_count": null,
   "metadata": {
    "collapsed": true
   },
   "outputs": [],
   "source": [
    "plt2 = ggplot(data=dat, aes(x=poptotal, y=popasian)) +\n",
    "    geom_point(aes(color=county)) + ggtitle(\"plot2\") +\n",
    "    facet_wrap(~state, scales=\"fixed\", nrow=2) +\n",
    "    #facet_wrap(~state, scales=\"free\", nrow=2) +\n",
    "    theme(\n",
    "        axis.title = element_text(face=\"bold\", size=9),\n",
    "        axis.text = element_text(size=7),\n",
    "        legend.title = element_text(face=\"bold\", size=9),\n",
    "        legend.text = element_text(size=7),\n",
    "        legend.position = \"none\",\n",
    "        strip.text=element_text(face=\"italic\", size=8),\n",
    "        plot.title = element_text(face=\"bold\", size=11)\n",
    "    )\n",
    "    \n",
    "plt2"
   ]
  },
  {
   "cell_type": "code",
   "execution_count": null,
   "metadata": {
    "collapsed": true,
    "scrolled": true
   },
   "outputs": [],
   "source": [
    "plt3 = ggplot(data=dat, aes(x=poptotal, y=popasian)) +\n",
    "    geom_point(aes(color=county)) + ggtitle(\"plot3\") +\n",
    "    stat_smooth(method = \"lm\", formula=y~x, size=1, se=T, colour=\"black\") +\n",
    "    stat_smooth(aes(group=state), method = \"loess\", formula=y~x, size=1, se=T, colour=\"red\") +\n",
    "    #facet_wrap(~state, scales=\"fixed\", nrow=2) +\n",
    "    facet_wrap(~state, scales=\"free\", nrow=2) +\n",
    "    theme(\n",
    "        axis.title = element_text(face=\"bold\", size=9),\n",
    "        axis.text = element_text(size=7),\n",
    "        legend.title = element_text(face=\"bold\", size=9),\n",
    "        legend.text = element_text(size=7),\n",
    "        legend.position = \"none\",\n",
    "        strip.text=element_text(face=\"italic\", size=8),\n",
    "        plot.title = element_text(face=\"bold\", size=11)\n",
    "    )\n",
    "    \n",
    "plt3"
   ]
  },
  {
   "cell_type": "code",
   "execution_count": null,
   "metadata": {
    "collapsed": true
   },
   "outputs": [],
   "source": [
    "#attributes(ggplot_build(plt3))\n",
    "\n",
    "head(ggplot_build(plt3)$data[[2]]);#LM fit\n",
    "head(ggplot_build(plt3)$data[[3]]);#LOESS fit"
   ]
  },
  {
   "cell_type": "code",
   "execution_count": null,
   "metadata": {
    "collapsed": true
   },
   "outputs": [],
   "source": [
    "plt4 = ggplot() + ggtitle(\"plot4\") +\n",
    "    geom_bar(data=dat, aes(x=1, y=area, fill=state), stat=\"identity\", position=\"stack\") +\n",
    "    labs(x=\"\", y=\"Cumulative Area\", fill=\"Midwest\") +\n",
    "    scale_x_discrete(breaks=\"\", labels=\"\") +\n",
    "    theme(\n",
    "        axis.title = element_text(face=\"bold\", size=9),\n",
    "        axis.text = element_text(size=7),\n",
    "        legend.title = element_text(face=\"bold\", size=9),\n",
    "        legend.text = element_text(size=7),\n",
    "        plot.title = element_text(face=\"bold\", size=11)\n",
    "    )\n",
    "\n",
    "plt4"
   ]
  },
  {
   "cell_type": "code",
   "execution_count": null,
   "metadata": {
    "collapsed": true
   },
   "outputs": [],
   "source": [
    "pdf(\"Figures.pdf\", width=40, height=20)\n",
    "print(plt1)\n",
    "print(plt2)\n",
    "print(plt3)\n",
    "print(plt4)\n",
    "dev.off()\n",
    "\n",
    "#ggsave()"
   ]
  },
  {
   "cell_type": "markdown",
   "metadata": {},
   "source": [
    "<font size=\"5\" color=\"68829E\" face=\"calibri\">\n",
    "<b> Saving</b>\n",
    "</font>\n",
    "<br>\n",
    "<font size=\"4\" color=\"black\" face=\"calibri\">\n",
    "XXX. <br>\n",
    "XXX.\n",
    "</font>"
   ]
  },
  {
   "cell_type": "code",
   "execution_count": null,
   "metadata": {
    "collapsed": true
   },
   "outputs": [],
   "source": [
    "ls()"
   ]
  },
  {
   "cell_type": "code",
   "execution_count": null,
   "metadata": {
    "collapsed": true
   },
   "outputs": [],
   "source": [
    "save.image(\"05_29_2019.RData\")\n",
    "#load(\"05_29_2019.RData\")\n",
    "\n",
    "#library(session);\n",
    "#save.session(\"RSession.Rda\");\n",
    "#restore.session(\"RSession.Rda\");"
   ]
  },
  {
   "cell_type": "code",
   "execution_count": null,
   "metadata": {
    "collapsed": true
   },
   "outputs": [],
   "source": [
    "write.table(dat, file=\"ExampleGGData.csv\", sep=\",\")\n",
    "list.files(path=\".\", pattern=\".csv\")\n",
    "\n",
    "#rm(list=ls());cat(\"\\014\")"
   ]
  },
  {
   "cell_type": "markdown",
   "metadata": {},
   "source": [
    "<font size=\"5\" color=\"68829E\" face=\"calibri\">\n",
    "<b> Loading</b>\n",
    "</font>\n",
    "<br>\n",
    "<font size=\"4\" color=\"black\" face=\"calibri\">\n",
    "XXX <br>\n",
    "XXX.\n",
    "</font>"
   ]
  },
  {
   "cell_type": "code",
   "execution_count": null,
   "metadata": {
    "collapsed": true
   },
   "outputs": [],
   "source": [
    "df = read.table(file=\"ExampleGGData.csv\", sep=\",\")\n",
    "head(df)\n",
    "\n",
    "#read.csv()\n",
    "#read.delim()"
   ]
  },
  {
   "cell_type": "code",
   "execution_count": null,
   "metadata": {
    "collapsed": true
   },
   "outputs": [],
   "source": [
    "#quit()"
   ]
  },
  {
   "cell_type": "markdown",
   "metadata": {},
   "source": [
    "<font size=\"4\" color=\"black\" face=\"calibri\">\n",
    "*References:* <br>\n",
    "<a href=\"https://software-carpentry.org/lessons/\"> www.software-carpentry.org</a> <br>\n",
    "<a href=\"https://ggplot2.tidyverse.org/reference/index.html\"> https://ggplot2.tidyverse.org</a> <br>\n",
    "</font>"
   ]
  },
  {
   "cell_type": "markdown",
   "metadata": {},
   "source": [
    "<font size=\"2\" color=\"black\" face=\"calibri\"> <b>\n",
    "'R: Some Basics' <br>\n",
    "</b> </font>"
   ]
  }
 ],
 "metadata": {
  "kernelspec": {
   "display_name": "Matlab r2017b",
   "language": "matlab",
   "name": "matlab-r2017b"
  },
  "language_info": {
   "codemirror_mode": "r",
   "file_extension": ".r",
   "mimetype": "text/x-r-source",
   "name": "R",
   "pygments_lexer": "r",
   "version": "3.4.1"
  }
 },
 "nbformat": 4,
 "nbformat_minor": 2
}
