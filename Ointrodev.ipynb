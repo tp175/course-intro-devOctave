{
 "cells": [
  {
   "cell_type": "markdown",
   "metadata": {},
   "source": [
    "<font size=\"6\" color=\"68829E\" face=\"calibri\"> <b> 'Octave: Some Basics' </b> </font>"
   ]
  },
  {
   "cell_type": "markdown",
   "metadata": {},
   "source": [
    "<font size=\"4\" color=\"#000000\" face=\"calibri\">\n",
    "Welcome to Octave, on HCC, through Jupyter. <br> <br>\n",
    "\"Scientific Programming Language Octave is free software for XXX\" <br>\n",
    "<a href=\"https://www.gnu.org/software/octave/\"> www.gnu.org/software/octave </a> <br> <br>\n",
    "Here, we'll be touching upon some of the fundamentals of the Octave language (often MATLAB compatible).<br> <br>\n",
    "</font>\n",
    "<font size=\"3\" color=\"#000000\" face=\"calibri\">\n",
    "#Tip 1. XXX.\n",
    "</font>"
   ]
  },
  {
   "cell_type": "markdown",
   "metadata": {},
   "source": [
    "<font size=\"5\" color=\"68829E\" face=\"calibri\">\n",
    "<b> Environment </b>\n",
    "</font>\n",
    "<br>\n",
    "<font size=\"4\" color=\"black\" face=\"calibri\">\n",
    "XXX. <br>\n",
    "console/interpreter...\n",
    "</font>"
   ]
  },
  {
   "cell_type": "code",
   "execution_count": null,
   "metadata": {
    "scrolled": false
   },
   "outputs": [],
   "source": [
    "#module load octave\n",
    "#octave\n",
    "ver()"
   ]
  },
  {
   "cell_type": "code",
   "execution_count": null,
   "metadata": {},
   "outputs": [],
   "source": [
    "pwd()\n",
    "%cd('\\home\\')"
   ]
  },
  {
   "cell_type": "code",
   "execution_count": null,
   "metadata": {},
   "outputs": [],
   "source": [
    "dir(pwd())\n",
    "%whos"
   ]
  },
  {
   "cell_type": "markdown",
   "metadata": {},
   "source": [
    "<font size=\"5\" color=\"68829E\" face=\"calibri\">\n",
    "<b> Calculations </b>\n",
    "</font>\n",
    "<br>\n",
    "<font size=\"4\" color=\"black\" face=\"calibri\">\n",
    "Mathematical calculations - elements & arrays (/vectors). <br>\n",
    "Example operators: <i> + , - , * , / , ^ </i>.\n",
    "</font>"
   ]
  },
  {
   "cell_type": "code",
   "execution_count": null,
   "metadata": {
    "scrolled": true
   },
   "outputs": [],
   "source": [
    "(20+20)/5"
   ]
  },
  {
   "cell_type": "code",
   "execution_count": null,
   "metadata": {},
   "outputs": [],
   "source": [
    "[01,2,3,4] .* [1,2,3,4]"
   ]
  },
  {
   "cell_type": "code",
   "execution_count": null,
   "metadata": {},
   "outputs": [],
   "source": [
    "sqrt(81) "
   ]
  },
  {
   "cell_type": "markdown",
   "metadata": {},
   "source": [
    "<font size=\"5\" color=\"68829E\" face=\"calibri\">\n",
    "<b> Functions </b>\n",
    "</font>\n",
    "<br>\n",
    "<font size=\"4\" color=\"black\" face=\"calibri\">\n",
    "    Perform procedures - Input to Output with options/arguments (<i>round brackets</i>). <br>\n",
    "With no defined arguments, functions will resort to default values found in documentation (help).\n",
    "</font>\n",
    "<br> <br>\n",
    "<font size=\"3\" color=\"#000000\" face=\"calibri\">\n",
    "#Tip 2. addpath('XXX').\n",
    "</font>"
   ]
  },
  {
   "cell_type": "code",
   "execution_count": null,
   "metadata": {},
   "outputs": [],
   "source": [
    "disp(sort(rand([1, 10]),\"ascend\"))"
   ]
  },
  {
   "cell_type": "code",
   "execution_count": null,
   "metadata": {},
   "outputs": [],
   "source": [
    "help sort"
   ]
  },
  {
   "cell_type": "code",
   "execution_count": null,
   "metadata": {},
   "outputs": [],
   "source": [
    "function [SE] = calculate_SE(x)\n",
    "    %function to calculate standard error.\n",
    "    SE = sqrt(var(x) / length(x));\n",
    "endfunction\n",
    "\n",
    "calculate_SE([10.4, 5.6, 3.1, 6.4, 21.7])"
   ]
  },
  {
   "cell_type": "markdown",
   "metadata": {},
   "source": [
    "<font size=\"5\" color=\"68829E\" face=\"calibri\">\n",
    "<b> Assignment </b>\n",
    "</font>\n",
    "<br>\n",
    "<font size=\"4\" color=\"black\" face=\"calibri\">\n",
    "Commands = assigns and saves outputs (results). <br> <br>\n",
    "R operates on named data structures, that is, sets of ordered entities.<br>\n",
    "Example vectors: numeric (double, integer, complex), logical, character.\n",
    "</font>"
   ]
  },
  {
   "cell_type": "code",
   "execution_count": null,
   "metadata": {},
   "outputs": [],
   "source": [
    "x = [10.4, 5.6, 3.1, 6.4, 21.7]; \n",
    "x"
   ]
  },
  {
   "cell_type": "code",
   "execution_count": null,
   "metadata": {},
   "outputs": [],
   "source": [
    "y = [{\"test\"}, {\"control\"}, {\"control\"}, {\"control\"}, {\"test\"}];\n",
    "y"
   ]
  },
  {
   "cell_type": "code",
   "execution_count": null,
   "metadata": {},
   "outputs": [],
   "source": [
    "num2cell(x)"
   ]
  },
  {
   "cell_type": "markdown",
   "metadata": {},
   "source": [
    "<font size=\"5\" color=\"68829E\" face=\"calibri\">\n",
    "<b> Objects </b>\n",
    "</font>\n",
    "<br>\n",
    "<font size=\"4\" color=\"black\" face=\"calibri\">\n",
    "While vectors are the most important type of object/structure/variable in R, others exist each with intrinsic attributes (mode and length). Conversion between types is relatively intuitative. <br>\n",
    "Examples: matrices, lists, dataframes.\n",
    "</font>"
   ]
  },
  {
   "cell_type": "code",
   "execution_count": null,
   "metadata": {
    "scrolled": false
   },
   "outputs": [],
   "source": [
    "X = rand([4, 5]);\n",
    "%X = reshape(rand([1, 20]), 4, 5);\n",
    "X"
   ]
  },
  {
   "cell_type": "markdown",
   "metadata": {},
   "source": [
    "<font size=\"5\" color=\"68829E\" face=\"calibri\">\n",
    "<b> Indexing </b>\n",
    "</font>\n",
    "<br>\n",
    "<font size=\"4\" color=\"black\" face=\"calibri\">\n",
    "    Manipulate parts of a dataset - rows then columns (<i>round brackets again</i>).\n",
    "</font>"
   ]
  },
  {
   "cell_type": "code",
   "execution_count": null,
   "metadata": {
    "scrolled": true
   },
   "outputs": [],
   "source": [
    "X(2,4)"
   ]
  },
  {
   "cell_type": "code",
   "execution_count": null,
   "metadata": {},
   "outputs": [],
   "source": [
    "X'(2,4)"
   ]
  },
  {
   "cell_type": "code",
   "execution_count": null,
   "metadata": {},
   "outputs": [],
   "source": [
    "X(1:3,2:3)"
   ]
  },
  {
   "cell_type": "code",
   "execution_count": null,
   "metadata": {},
   "outputs": [],
   "source": [
    "[X(1:3,2), X(1:3,3)]"
   ]
  },
  {
   "cell_type": "code",
   "execution_count": null,
   "metadata": {},
   "outputs": [],
   "source": [
    "[X(1,2:3); X(2,2:3); X(3,2:3)]"
   ]
  },
  {
   "cell_type": "markdown",
   "metadata": {},
   "source": [
    "<font size=\"5\" color=\"68829E\" face=\"calibri\">\n",
    "<b> Iterations </b>\n",
    "</font>\n",
    "<br>\n",
    "<font size=\"4\" color=\"black\" face=\"calibri\">\n",
    "Loops can be used to repeat procedures (for / while). <br>\n",
    "However, vectorize is faster - apply (array), lapply (list), sapply (vector). <br> <br>\n",
    "</font>\n",
    "<font size=\"3\" color=\"#000000\" face=\"calibri\">\n",
    "#Tip 3. XXX.\n",
    "</font>"
   ]
  },
  {
   "cell_type": "code",
   "execution_count": null,
   "metadata": {},
   "outputs": [],
   "source": [
    "colMean = repmat(NA, [1, size(X,2)]);\n",
    "for i = 1:size(X,2);\n",
    "    colMean(i) = mean(X(:,i));\n",
    "end\n",
    "colMean"
   ]
  },
  {
   "cell_type": "code",
   "execution_count": null,
   "metadata": {},
   "outputs": [],
   "source": [
    "colMean = arrayfun(@(col)mean(X(:,col)), 1:size(X,2));\n",
    "colMean\n",
    "\n",
    "%mean(X,1)"
   ]
  },
  {
   "cell_type": "code",
   "execution_count": null,
   "metadata": {},
   "outputs": [],
   "source": [
    "rowSE = arrayfun(@(row)calculate_SE(X(row,:)), 1:size(X,1));\n",
    "rowSE"
   ]
  },
  {
   "cell_type": "markdown",
   "metadata": {},
   "source": [
    "<font size=\"5\" color=\"68829E\" face=\"calibri\">\n",
    "<b> Conditions </b>\n",
    "</font>\n",
    "<br>\n",
    "<font size=\"4\" color=\"black\" face=\"calibri\">\n",
    "Checks can control the flow of actions. <br>\n",
    "Comparsion: less than (<i> < </i>), great than (<i> > </i>), equal (<i> == </i>), different (<i> ~= </i>). <br>\n",
    "Logical: AND (<i> & </i>) if both <i>true</i>, OR (<i> | </i>) if either <i>true</i>, NOT (<i> ~ </i>) converts <i>true</i> to <i>false</i>.\n",
    "</font>"
   ]
  },
  {
   "cell_type": "code",
   "execution_count": null,
   "metadata": {},
   "outputs": [],
   "source": [
    "if (length(colMean) == 5);\n",
    "  disp(\"good - dimensions match\")\n",
    "else\n",
    "  disp(\"check - dimensions don't match\")\n",
    "end"
   ]
  },
  {
   "cell_type": "markdown",
   "metadata": {},
   "source": [
    "<font size=\"5\" color=\"68829E\" face=\"calibri\">\n",
    "<b> Packages </b>\n",
    "</font>\n",
    "<br>\n",
    "<font size=\"4\" color=\"black\" face=\"calibri\">\n",
    "Codes/functions (and datasets) developed by the community are organised and shared online in resposities - these can be retrieved/downloaded, unpacked into files/directories and used. <br>\n",
    "XXX dependencies XXX <br>\n",
    "Repositories: Forge (official network), XXX (XXX), GitHub. <br>\n",
    "Packages: io, XXX, XXX.\n",
    "</font>"
   ]
  },
  {
   "cell_type": "code",
   "execution_count": null,
   "metadata": {},
   "outputs": [],
   "source": [
    "%pkg install -forge io\n",
    "pkg load io\n",
    "\n",
    "%pkg unload io"
   ]
  },
  {
   "cell_type": "code",
   "execution_count": null,
   "metadata": {},
   "outputs": [],
   "source": [
    "dat = "
   ]
  },
  {
   "cell_type": "markdown",
   "metadata": {},
   "source": [
    "<font size=\"5\" color=\"68829E\" face=\"calibri\">\n",
    "<b> Subsetting </b>\n",
    "</font>\n",
    "<br>\n",
    "<font size=\"4\" color=\"black\" face=\"calibri\">\n",
    "Selecting and excluding variables and observations. <br>\n",
    "XXX.\n",
    "</font>"
   ]
  },
  {
   "cell_type": "code",
   "execution_count": null,
   "metadata": {},
   "outputs": [],
   "source": [
    "print(colnames(dat))\n",
    "#rownames(dat)"
   ]
  },
  {
   "cell_type": "code",
   "execution_count": null,
   "metadata": {},
   "outputs": [],
   "source": [
    "#unique(dat$state)\n",
    "\n",
    "datOH = dat[dat$state==\"OH\",];head(datOH)\n",
    "indexOH = find(dat$state==\"OH\");indexOH[1:10]\n",
    "\n",
    "datminusOH = dat;\n",
    "datminusOH(indexOH,:) = [];"
   ]
  },
  {
   "cell_type": "markdown",
   "metadata": {},
   "source": [
    "<font size=\"5\" color=\"68829E\" face=\"calibri\">\n",
    "<b> Cells </b>\n",
    "</font>\n",
    "<br>\n",
    "<font size=\"4\" color=\"black\" face=\"calibri\">\n",
    "XXX. <br>\n",
    "XXX.\n",
    "</font>"
   ]
  },
  {
   "cell_type": "code",
   "execution_count": null,
   "metadata": {},
   "outputs": [],
   "source": [
    "fieldnames(dat)\n",
    "\n",
    "class(dat)\n",
    "\n",
    "head(dat)"
   ]
  },
  {
   "cell_type": "markdown",
   "metadata": {},
   "source": [
    "<font size=\"5\" color=\"68829E\" face=\"calibri\">\n",
    "<b> Plotting </b>\n",
    "</font>\n",
    "<br>\n",
    "<font size=\"4\" color=\"black\" face=\"calibri\">\n",
    "XXX. <br>\n",
    "XXX.<br>\n",
    "</font>"
   ]
  },
  {
   "cell_type": "code",
   "execution_count": null,
   "metadata": {},
   "outputs": [],
   "source": [
    "x = [0.5:0.5:10];\n",
    "y = rand([1,20]);"
   ]
  },
  {
   "cell_type": "code",
   "execution_count": null,
   "metadata": {},
   "outputs": [],
   "source": [
    "%figure;\n",
    "plot(x,y,'-ro');\n",
    "set(gca,'XLim',[0, 10.5],'YLim',[0, 1.5]);\n",
    "xlabel(\"random v1\");ylabel(\"random v2\");title(\"plt1\");"
   ]
  },
  {
   "cell_type": "code",
   "execution_count": null,
   "metadata": {},
   "outputs": [],
   "source": [
    "%figure;\n",
    "plot(x,y,'--k');\n",
    "hold on;\n",
    "bar(x,y,'facecolor',[0.5,0.5,0.5],'edgecolor',[0.5,0.5,0.5]);\n",
    "hold on; \n",
    "plot(x,y,'o','markeredgecolor',[0,0,1],'markerfacecolor',[0,0,1],'markersize',8);\n",
    "set(gca,'XLim',[0, 10.5],'YLim',[0, 1.5]);\n",
    "xlabel(\"random v1\");ylabel(\"random v2\");title(\"plt1\");"
   ]
  },
  {
   "cell_type": "code",
   "execution_count": null,
   "metadata": {
    "scrolled": true
   },
   "outputs": [],
   "source": [
    "plt3 =\n",
    "plt3"
   ]
  },
  {
   "cell_type": "code",
   "execution_count": null,
   "metadata": {},
   "outputs": [],
   "source": [
    "#attributes(ggplot_build(plt3))\n",
    "\n",
    "head(ggplot_build(plt3)$data[[2]]);#LM fit\n",
    "head(ggplot_build(plt3)$data[[3]]);#LOESS fit"
   ]
  },
  {
   "cell_type": "code",
   "execution_count": null,
   "metadata": {},
   "outputs": [],
   "source": [
    "plt4 =\n",
    "plt4"
   ]
  },
  {
   "cell_type": "code",
   "execution_count": null,
   "metadata": {},
   "outputs": [],
   "source": [
    "pdf(\"Figures.pdf\", width=40, height=20)\n",
    "print(plt1)\n",
    "print(plt2)\n",
    "print(plt3)\n",
    "print(plt4)\n",
    "dev.off()\n",
    "\n",
    "#ggsave()"
   ]
  },
  {
   "cell_type": "markdown",
   "metadata": {},
   "source": [
    "<font size=\"5\" color=\"68829E\" face=\"calibri\">\n",
    "<b> Saving</b>\n",
    "</font>\n",
    "<br>\n",
    "<font size=\"4\" color=\"black\" face=\"calibri\">\n",
    "XXX. <br>\n",
    "XXX.\n",
    "</font>"
   ]
  },
  {
   "cell_type": "code",
   "execution_count": null,
   "metadata": {},
   "outputs": [],
   "source": [
    "whos"
   ]
  },
  {
   "cell_type": "code",
   "execution_count": null,
   "metadata": {},
   "outputs": [],
   "source": [
    "save('data_05292019.mat');\n",
    "#load('data_05292019.mat')"
   ]
  },
  {
   "cell_type": "code",
   "execution_count": null,
   "metadata": {},
   "outputs": [],
   "source": [
    "write.table(dat, file=\"ExampleGGData.csv\", sep=\",\")\n",
    "\n",
    "xlswrite (FILENAME, ARR)\n",
    "cell2csv('ExampleGGData.csv', num2cell(dat))\n",
    "\n",
    "list.files(path=\".\", pattern=\".csv\")\n",
    "\n",
    "#clear;clc"
   ]
  },
  {
   "cell_type": "markdown",
   "metadata": {},
   "source": [
    "<font size=\"5\" color=\"68829E\" face=\"calibri\">\n",
    "<b> Loading</b>\n",
    "</font>\n",
    "<br>\n",
    "<font size=\"4\" color=\"black\" face=\"calibri\">\n",
    "XXX <br>\n",
    "XXX.\n",
    "</font>"
   ]
  },
  {
   "cell_type": "code",
   "execution_count": null,
   "metadata": {},
   "outputs": [],
   "source": [
    "[num2,txt2,raw2] = xlsread('data_05252019.xlsx')\n",
    "%df = csv2cell('ExampleGGData.csv');\n",
    "\n",
    "df = read.table(file=\"ExampleGGData.csv\", sep=\",\")\n",
    "head(df)\n",
    "\n",
    "#read.csv()\n",
    "#read.delim()"
   ]
  },
  {
   "cell_type": "code",
   "execution_count": null,
   "metadata": {},
   "outputs": [],
   "source": [
    "#quit()"
   ]
  },
  {
   "cell_type": "markdown",
   "metadata": {},
   "source": [
    "<font size=\"4\" color=\"black\" face=\"calibri\">\n",
    "<i>References:</i> <br>\n",
    "XXX\n",
    "</font>"
   ]
  },
  {
   "cell_type": "markdown",
   "metadata": {},
   "source": [
    "<font size=\"2\" color=\"black\" face=\"calibri\"> <b>\n",
    "'Octave: Some Basics' <br>\n",
    "</b> </font>"
   ]
  }
 ],
 "metadata": {
  "kernelspec": {
   "display_name": "Octave",
   "language": "octave",
   "name": "octave"
  },
  "language_info": {
   "file_extension": ".m",
   "help_links": [
    {
     "text": "GNU Octave",
     "url": "https://www.gnu.org/software/octave/support.html"
    },
    {
     "text": "Octave Kernel",
     "url": "https://github.com/Calysto/octave_kernel"
    },
    {
     "text": "MetaKernel Magics",
     "url": "https://metakernel.readthedocs.io/en/latest/source/README.html"
    }
   ],
   "mimetype": "text/x-octave",
   "name": "octave",
   "version": "4.2.2"
  }
 },
 "nbformat": 4,
 "nbformat_minor": 2
}
